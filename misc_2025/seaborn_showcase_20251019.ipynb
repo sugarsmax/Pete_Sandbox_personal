{
  "cells": [
    {
      "cell_type": "markdown",
      "metadata": {},
      "source": [
        "\n"
      ]
    },
    {
      "cell_type": "code",
      "execution_count": null,
      "metadata": {},
      "outputs": [],
      "source": [
        "# Import required libraries\n",
        "import seaborn as sns\n",
        "import matplotlib.pyplot as plt\n",
        "import pandas as pd\n",
        "import numpy as np\n",
        "from scipy import stats\n",
        "\n",
        "# Set random seed for reproducibility\n",
        "np.random.seed(42)\n",
        "\n",
        "# Configure display settings\n",
        "plt.rcParams['figure.figsize'] = (12, 6)\n",
        "sns.set_theme(style=\"whitegrid\")\n",
        "\n",
        "print(f\"Seaborn version: {sns.__version__}\")\n"
      ]
    },
    {
      "cell_type": "markdown",
      "metadata": {},
      "source": [
        "\n"
      ]
    },
    {
      "cell_type": "code",
      "execution_count": null,
      "metadata": {},
      "outputs": [],
      "source": [
        "# Load built-in datasets\n",
        "tips = sns.load_dataset('tips')\n",
        "iris = sns.load_dataset('iris')\n",
        "penguins = sns.load_dataset('penguins')\n",
        "flights = sns.load_dataset('flights')\n",
        "diamonds = sns.load_dataset('diamonds')\n",
        "\n",
        "# Display sample data\n",
        "print(\"Tips Dataset:\")\n",
        "display(tips.head())\n",
        "print(\"\\nIris Dataset:\")\n",
        "display(iris.head())\n",
        "print(\"\\nPenguins Dataset:\")\n",
        "display(penguins.head())\n"
      ]
    },
    {
      "cell_type": "markdown",
      "metadata": {},
      "source": [
        "\n"
      ]
    },
    {
      "cell_type": "code",
      "execution_count": null,
      "metadata": {},
      "outputs": [],
      "source": [
        "# Histogram with KDE (Kernel Density Estimate)\n",
        "fig, axes = plt.subplots(2, 2, figsize=(14, 10))\n",
        "\n",
        "# Histogram\n",
        "sns.histplot(data=tips, x='total_bill', kde=True, ax=axes[0, 0], color='#1A6BFF')\n",
        "axes[0, 0].set_title('Histogram with KDE: Total Bill Distribution', fontsize=12, fontweight='bold')\n",
        "\n",
        "# KDE Plot\n",
        "sns.kdeplot(data=tips, x='total_bill', hue='time', fill=True, ax=axes[0, 1], palette=['#1A6BFF', '#88A943'])\n",
        "axes[0, 1].set_title('KDE Plot: Total Bill by Time', fontsize=12, fontweight='bold')\n",
        "\n",
        "# Distribution plot with rug\n",
        "sns.histplot(data=penguins, x='flipper_length_mm', kde=True, ax=axes[1, 0], color='#A80C7C')\n",
        "sns.rugplot(data=penguins, x='flipper_length_mm', ax=axes[1, 0], color='black', alpha=0.3)\n",
        "axes[1, 0].set_title('Distribution with Rug Plot: Penguin Flipper Length', fontsize=12, fontweight='bold')\n",
        "\n",
        "# ECDF (Empirical Cumulative Distribution Function)\n",
        "sns.ecdfplot(data=tips, x='tip', hue='sex', ax=axes[1, 1], palette=['#DBAE06', '#008C4A'])\n",
        "axes[1, 1].set_title('ECDF: Tip Distribution by Gender', fontsize=12, fontweight='bold')\n",
        "\n",
        "plt.tight_layout()\n",
        "plt.show()\n"
      ]
    },
    {
      "cell_type": "markdown",
      "metadata": {},
      "source": [
        "\n"
      ]
    },
    {
      "cell_type": "code",
      "execution_count": null,
      "metadata": {},
      "outputs": [],
      "source": [
        "\n"
      ]
    },
    {
      "cell_type": "markdown",
      "metadata": {},
      "source": [
        "\n"
      ]
    },
    {
      "cell_type": "code",
      "execution_count": null,
      "metadata": {},
      "outputs": [],
      "source": [
        "\n"
      ]
    },
    {
      "cell_type": "markdown",
      "metadata": {},
      "source": [
        "\n"
      ]
    },
    {
      "cell_type": "code",
      "execution_count": null,
      "metadata": {},
      "outputs": [],
      "source": [
        "\n"
      ]
    },
    {
      "cell_type": "code",
      "execution_count": null,
      "metadata": {},
      "outputs": [],
      "source": [
        "\n"
      ]
    },
    {
      "cell_type": "markdown",
      "metadata": {},
      "source": []
    }
  ],
  "metadata": {
    "kernelspec": {
      "display_name": "Python 3",
      "language": "python",
      "name": "python3"
    },
    "language_info": {
      "name": "python",
      "version": "3.13.7"
    }
  },
  "nbformat": 4,
  "nbformat_minor": 2
}

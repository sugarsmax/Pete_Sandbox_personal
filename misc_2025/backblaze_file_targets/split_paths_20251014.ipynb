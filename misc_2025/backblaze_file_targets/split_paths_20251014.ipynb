{
  "cells": [
    {
      "cell_type": "markdown",
      "metadata": {},
      "source": [
        "# Path Splitter\n",
        "\n",
        "This notebook splits file paths by their last forward slash and creates a DataFrame for analysis.\n"
      ]
    },
    {
      "cell_type": "code",
      "execution_count": 7,
      "metadata": {},
      "outputs": [],
      "source": [
        "import pandas as pd\n",
        "import os\n"
      ]
    },
    {
      "cell_type": "code",
      "execution_count": 8,
      "metadata": {},
      "outputs": [
        {
          "name": "stdout",
          "output_type": "stream",
          "text": [
            "First 5 lines of the file:\n",
            "/Users/andreaalejandrino/Documents/Zoom/2020-12-25 16.29.37 Andrea Alejandrino's Personal Meeting Room 8081359430\\tplayback.m3u\n",
            "/Users/andreaalejandrino/Library/Application Support/Google/Chrome/CertificateRevocation/10091/manifest.json\n",
            "/Users/andreaalejandrino/Library/Application Support/Google/Chrome/Default/Cookies-journal\n",
            "/Users/andreaalejandrino/Library/Application Support/Google/Chrome/Default/File System/142/p/.usage\n",
            "/Users/andreaalejandrino/Library/Application Support/Google/Chrome/Default/Service Worker/CacheStorage/8cbb992fe0cd9ef960e69a214646bd270516a23e/1a5d3f39-c61c-4f03-becc-7848b209d6a3/index\n"
          ]
        }
      ],
      "source": [
        "# Read the file\n",
        "file_path = 'backblaze_file_targets.csv'\n",
        "\n",
        "with open(file_path, 'r') as f:\n",
        "    lines = f.readlines()\n",
        "\n",
        "# Show first few lines\n",
        "print(\"First 5 lines of the file:\")\n",
        "for line in lines[:5]:\n",
        "    print(line.strip())\n"
      ]
    },
    {
      "cell_type": "code",
      "execution_count": 9,
      "metadata": {},
      "outputs": [
        {
          "name": "stdout",
          "output_type": "stream",
          "text": [
            "\n",
            "First few rows of processed data:\n"
          ]
        },
        {
          "data": {
            "text/html": [
              "<div>\n",
              "<style scoped>\n",
              "    .dataframe tbody tr th:only-of-type {\n",
              "        vertical-align: middle;\n",
              "    }\n",
              "\n",
              "    .dataframe tbody tr th {\n",
              "        vertical-align: top;\n",
              "    }\n",
              "\n",
              "    .dataframe thead th {\n",
              "        text-align: right;\n",
              "    }\n",
              "</style>\n",
              "<table border=\"1\" class=\"dataframe\">\n",
              "  <thead>\n",
              "    <tr style=\"text-align: right;\">\n",
              "      <th></th>\n",
              "      <th>line_number</th>\n",
              "      <th>full_path</th>\n",
              "      <th>directory</th>\n",
              "      <th>filename</th>\n",
              "    </tr>\n",
              "  </thead>\n",
              "  <tbody>\n",
              "    <tr>\n",
              "      <th>0</th>\n",
              "      <td></td>\n",
              "      <td>/Users/andreaalejandrino/Documents/Zoom/2020-1...</td>\n",
              "      <td>/Users/andreaalejandrino/Documents/Zoom</td>\n",
              "      <td>2020-12-25 16.29.37 Andrea Alejandrino's Perso...</td>\n",
              "    </tr>\n",
              "    <tr>\n",
              "      <th>1</th>\n",
              "      <td></td>\n",
              "      <td>/Users/andreaalejandrino/Library/Application S...</td>\n",
              "      <td>/Users/andreaalejandrino/Library/Application S...</td>\n",
              "      <td>manifest.json</td>\n",
              "    </tr>\n",
              "    <tr>\n",
              "      <th>2</th>\n",
              "      <td></td>\n",
              "      <td>/Users/andreaalejandrino/Library/Application S...</td>\n",
              "      <td>/Users/andreaalejandrino/Library/Application S...</td>\n",
              "      <td>Cookies-journal</td>\n",
              "    </tr>\n",
              "    <tr>\n",
              "      <th>3</th>\n",
              "      <td></td>\n",
              "      <td>/Users/andreaalejandrino/Library/Application S...</td>\n",
              "      <td>/Users/andreaalejandrino/Library/Application S...</td>\n",
              "      <td>.usage</td>\n",
              "    </tr>\n",
              "    <tr>\n",
              "      <th>4</th>\n",
              "      <td></td>\n",
              "      <td>/Users/andreaalejandrino/Library/Application S...</td>\n",
              "      <td>/Users/andreaalejandrino/Library/Application S...</td>\n",
              "      <td>index</td>\n",
              "    </tr>\n",
              "  </tbody>\n",
              "</table>\n",
              "</div>"
            ],
            "text/plain": [
              "  line_number                                          full_path  \\\n",
              "0              /Users/andreaalejandrino/Documents/Zoom/2020-1...   \n",
              "1              /Users/andreaalejandrino/Library/Application S...   \n",
              "2              /Users/andreaalejandrino/Library/Application S...   \n",
              "3              /Users/andreaalejandrino/Library/Application S...   \n",
              "4              /Users/andreaalejandrino/Library/Application S...   \n",
              "\n",
              "                                           directory  \\\n",
              "0            /Users/andreaalejandrino/Documents/Zoom   \n",
              "1  /Users/andreaalejandrino/Library/Application S...   \n",
              "2  /Users/andreaalejandrino/Library/Application S...   \n",
              "3  /Users/andreaalejandrino/Library/Application S...   \n",
              "4  /Users/andreaalejandrino/Library/Application S...   \n",
              "\n",
              "                                            filename  \n",
              "0  2020-12-25 16.29.37 Andrea Alejandrino's Perso...  \n",
              "1                                      manifest.json  \n",
              "2                                    Cookies-journal  \n",
              "3                                             .usage  \n",
              "4                                              index  "
            ]
          },
          "execution_count": 9,
          "metadata": {},
          "output_type": "execute_result"
        }
      ],
      "source": [
        "# Process each line\n",
        "processed_lines = []\n",
        "\n",
        "for line in lines:\n",
        "    # Skip empty lines\n",
        "    if not line.strip():\n",
        "        continue\n",
        "        \n",
        "    # Split by line number if present\n",
        "    if '|' in line:\n",
        "        line_num, content = line.strip().split('|', 1)\n",
        "    else:\n",
        "        line_num = ''\n",
        "        content = line.strip()\n",
        "    \n",
        "    # Split by last forward slash\n",
        "    if '/' in content:\n",
        "        path, filename = content.rsplit('/', 1)\n",
        "    else:\n",
        "        path = ''\n",
        "        filename = content\n",
        "        \n",
        "    processed_lines.append({\n",
        "        'line_number': line_num.strip(),\n",
        "        'full_path': content,\n",
        "        'directory': path,\n",
        "        'filename': filename\n",
        "    })\n",
        "\n",
        "# Create DataFrame\n",
        "df = pd.DataFrame(processed_lines)\n",
        "print(\"\\nFirst few rows of processed data:\")\n",
        "df.head()\n"
      ]
    },
    {
      "cell_type": "code",
      "execution_count": 10,
      "metadata": {},
      "outputs": [
        {
          "name": "stdout",
          "output_type": "stream",
          "text": [
            "Total number of files: 341\n",
            "\n",
            "Number of unique directories: 189\n",
            "\n",
            "Most common file extensions:\n",
            "extension\n",
            ".json    43\n",
            ".txt     32\n",
            ".url     31\n",
            ".bat     25\n",
            ".dat     15\n",
            "Name: count, dtype: int64\n"
          ]
        }
      ],
      "source": [
        "# Basic statistics\n",
        "print(f\"Total number of files: {len(df)}\")\n",
        "print(f\"\\nNumber of unique directories: {df['directory'].nunique()}\")\n",
        "print(f\"\\nMost common file extensions:\")\n",
        "df['extension'] = df['filename'].str.extract(r'(\\.[^.]+)$')\n",
        "print(df['extension'].value_counts().head())\n"
      ]
    },
    {
      "cell_type": "code",
      "execution_count": 11,
      "metadata": {},
      "outputs": [
        {
          "name": "stdout",
          "output_type": "stream",
          "text": [
            "Saved tab-separated version to tab_separated_paths_20251014.csv\n",
            "\n",
            "First 5 lines of the tab-separated file:\n",
            "/Users/andreaalejandrino/Documents/Zoom\t2020-12-25 16.29.37 Andrea Alejandrino's Personal Meeting Room 8081359430\\tplayback.m3u\n",
            "/Users/andreaalejandrino/Library/Application Support/Google/Chrome/CertificateRevocation/10091\tmanifest.json\n",
            "/Users/andreaalejandrino/Library/Application Support/Google/Chrome/Default\tCookies-journal\n",
            "/Users/andreaalejandrino/Library/Application Support/Google/Chrome/Default/File System/142/p\t.usage\n",
            "/Users/andreaalejandrino/Library/Application Support/Google/Chrome/Default/Service Worker/CacheStorage/8cbb992fe0cd9ef960e69a214646bd270516a23e/1a5d3f39-c61c-4f03-becc-7848b209d6a3\tindex\n"
          ]
        }
      ],
      "source": [
        "# Create tab-separated version\n",
        "tab_separated_lines = []\n",
        "for _, row in df.iterrows():\n",
        "    if row['line_number']:\n",
        "        line = f\"{row['line_number']}|{row['directory']}\\t{row['filename']}\"\n",
        "    else:\n",
        "        line = f\"{row['directory']}\\t{row['filename']}\"\n",
        "    tab_separated_lines.append(line)\n",
        "\n",
        "# Save to new file\n",
        "output_file = 'tab_separated_paths_20251014.csv'\n",
        "with open(output_file, 'w') as f:\n",
        "    f.write('\\n'.join(tab_separated_lines))\n",
        "print(f\"Saved tab-separated version to {output_file}\")\n",
        "\n",
        "# Show first few lines of the output\n",
        "print(\"\\nFirst 5 lines of the tab-separated file:\")\n",
        "for line in tab_separated_lines[:5]:\n",
        "    print(line)\n"
      ]
    }
  ],
  "metadata": {
    "kernelspec": {
      "display_name": ".venv",
      "language": "python",
      "name": "python3"
    },
    "language_info": {
      "codemirror_mode": {
        "name": "ipython",
        "version": 3
      },
      "file_extension": ".py",
      "mimetype": "text/x-python",
      "name": "python",
      "nbconvert_exporter": "python",
      "pygments_lexer": "ipython3",
      "version": "3.13.7"
    }
  },
  "nbformat": 4,
  "nbformat_minor": 2
}

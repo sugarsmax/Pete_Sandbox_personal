{
  "cells": [
    {
      "cell_type": "code",
      "execution_count": 18,
      "metadata": {},
      "outputs": [
        {
          "name": "stdout",
          "output_type": "stream",
          "text": [
            "Note: you may need to restart the kernel to use updated packages.\n"
          ]
        }
      ],
      "source": [
        "%pip install pandas numpy mutagen tidalapi requests --quiet\n"
      ]
    },
    {
      "cell_type": "markdown",
      "metadata": {},
      "source": [
        "# Local MP3 to Tidal Lookup\n",
        "\n",
        "This notebook scans a local directory for MP3 files and searches for each song on Tidal.\n",
        "\n",
        "**Purpose**: Find local music files in Tidal's catalog for potential migration or catalog comparison\n",
        "\n",
        "**Requirements**:\n",
        "- Local MP3 files with proper metadata\n",
        "- Tidal API access (you'll need credentials or tidalapi library)\n",
        "- Python libraries: mutagen, tidalapi, pandas\n"
      ]
    },
    {
      "cell_type": "code",
      "execution_count": 19,
      "metadata": {},
      "outputs": [
        {
          "name": "stdout",
          "output_type": "stream",
          "text": [
            "✓ Core imports loaded successfully\n"
          ]
        }
      ],
      "source": [
        "import os\n",
        "import json\n",
        "import pandas as pd\n",
        "from pathlib import Path\n",
        "from typing import List, Dict, Optional\n",
        "import warnings\n",
        "warnings.filterwarnings('ignore')\n",
        "\n",
        "# Audio metadata\n",
        "from mutagen.mp3 import MP3\n",
        "from mutagen.easyid3 import EasyID3\n",
        "\n",
        "print(\"✓ Core imports loaded successfully\")\n"
      ]
    },
    {
      "cell_type": "code",
      "execution_count": 20,
      "metadata": {},
      "outputs": [
        {
          "name": "stdout",
          "output_type": "stream",
          "text": [
            "✓ tidalapi available\n",
            "✓ requests available for manual API calls\n"
          ]
        }
      ],
      "source": [
        "# Tidal API - Choose one method below\n",
        "\n",
        "# Method 1: Using tidalapi library (recommended)\n",
        "try:\n",
        "    import tidalapi\n",
        "    TIDAL_METHOD = \"tidalapi\"\n",
        "    print(\"✓ tidalapi available\")\n",
        "except ImportError:\n",
        "    print(\"⚠ tidalapi not installed. Install with: pip install tidalapi\")\n",
        "    TIDAL_METHOD = None\n",
        "\n",
        "# Method 2: Manual API calls (fallback)\n",
        "import requests\n",
        "print(\"✓ requests available for manual API calls\")\n"
      ]
    },
    {
      "cell_type": "code",
      "execution_count": 21,
      "metadata": {},
      "outputs": [
        {
          "name": "stdout",
          "output_type": "stream",
          "text": [
            "✓ MP3 scanning functions defined\n"
          ]
        }
      ],
      "source": [
        "def extract_mp3_metadata(file_path: str) -> Optional[Dict]:\n",
        "    \"\"\"\n",
        "    Extract artist, title, album from MP3 file metadata\n",
        "    \n",
        "    Args:\n",
        "        file_path: Path to MP3 file\n",
        "        \n",
        "    Returns:\n",
        "        Dict with title, artist, album, or None if extraction fails\n",
        "    \"\"\"\n",
        "    try:\n",
        "        # Try ID3 tags first\n",
        "        audio = EasyID3(file_path)\n",
        "        metadata = {\n",
        "            'title': audio.get('title', ['Unknown'])[0] if 'title' in audio else 'Unknown',\n",
        "            'artist': audio.get('artist', ['Unknown'])[0] if 'artist' in audio else 'Unknown',\n",
        "            'album': audio.get('album', ['Unknown'])[0] if 'album' in audio else 'Unknown',\n",
        "            'path': file_path\n",
        "        }\n",
        "        return metadata\n",
        "    except Exception as e:\n",
        "        print(f\"⚠ Could not read metadata from {file_path}: {str(e)}\")\n",
        "        return None\n",
        "\n",
        "\n",
        "def scan_directory_for_mp3s(directory: str, recursive: bool = True) -> List[Dict]:\n",
        "    \"\"\"\n",
        "    Scan directory for MP3 files and extract metadata\n",
        "    \n",
        "    Args:\n",
        "        directory: Path to directory to scan\n",
        "        recursive: Whether to search subdirectories\n",
        "        \n",
        "    Returns:\n",
        "        List of dicts with MP3 metadata\n",
        "    \"\"\"\n",
        "    mp3_files = []\n",
        "    directory_path = Path(directory)\n",
        "    \n",
        "    if not directory_path.exists():\n",
        "        print(f\"✗ Directory not found: {directory}\")\n",
        "        return []\n",
        "    \n",
        "    # Get all MP3 files\n",
        "    if recursive:\n",
        "        pattern = \"**/*.mp3\"\n",
        "    else:\n",
        "        pattern = \"*.mp3\"\n",
        "    \n",
        "    mp3_paths = list(directory_path.glob(pattern))\n",
        "    print(f\"Found {len(mp3_paths)} MP3 files\")\n",
        "    \n",
        "    for mp3_path in mp3_paths:\n",
        "        metadata = extract_mp3_metadata(str(mp3_path))\n",
        "        if metadata:\n",
        "            mp3_files.append(metadata)\n",
        "    \n",
        "    return mp3_files\n",
        "\n",
        "\n",
        "# Test the function\n",
        "print(\"✓ MP3 scanning functions defined\")\n"
      ]
    },
    {
      "cell_type": "code",
      "execution_count": 22,
      "metadata": {},
      "outputs": [
        {
          "name": "stdout",
          "output_type": "stream",
          "text": [
            "✓ Tidal search functions defined\n"
          ]
        }
      ],
      "source": [
        "def search_tidal_tidalapi(session, title: str, artist: str) -> Optional[Dict]:\n",
        "    \"\"\"\n",
        "    Search Tidal using tidalapi library\n",
        "    \n",
        "    Args:\n",
        "        session: tidalapi session object\n",
        "        title: Song title\n",
        "        artist: Artist name\n",
        "        \n",
        "    Returns:\n",
        "        Dict with Tidal match info or None\n",
        "    \"\"\"\n",
        "    try:\n",
        "        # Search for track\n",
        "        search_term = f\"{title} {artist}\"\n",
        "        results = session.search(search_term, models=[tidalapi.Track])\n",
        "        \n",
        "        if results and results['tracks']:\n",
        "            track = results['tracks'][0]\n",
        "            return {\n",
        "                'tidal_track_id': track.id,\n",
        "                'tidal_title': track.name,\n",
        "                'tidal_artist': track.artist.name if track.artist else 'Unknown',\n",
        "                'tidal_album': track.album.name if track.album else 'Unknown',\n",
        "                'found': True\n",
        "            }\n",
        "    except Exception as e:\n",
        "        print(f\"Error searching Tidal: {str(e)}\")\n",
        "    \n",
        "    return {'found': False}\n",
        "\n",
        "\n",
        "def search_tidal_manual(title: str, artist: str, country_code: str = \"US\") -> Optional[Dict]:\n",
        "    \"\"\"\n",
        "    Search Tidal using public API (no auth required for basic search)\n",
        "    \n",
        "    Args:\n",
        "        title: Song title\n",
        "        artist: Artist name\n",
        "        country_code: Country code (default: US)\n",
        "        \n",
        "    Returns:\n",
        "        Dict with Tidal match info or None\n",
        "    \"\"\"\n",
        "    try:\n",
        "        url = \"https://api.tidalhifi.com/v1/search/tracks\"\n",
        "        params = {\n",
        "            'query': f\"{title} {artist}\",\n",
        "            'limit': 1,\n",
        "            'countryCode': country_code\n",
        "        }\n",
        "        \n",
        "        response = requests.get(url, params=params, timeout=5)\n",
        "        if response.status_code == 200:\n",
        "            data = response.json()\n",
        "            if data.get('items'):\n",
        "                track = data['items'][0]\n",
        "                return {\n",
        "                    'tidal_track_id': track.get('id'),\n",
        "                    'tidal_title': track.get('title'),\n",
        "                    'tidal_artist': track.get('artist', {}).get('name', 'Unknown'),\n",
        "                    'tidal_album': track.get('album', {}).get('title', 'Unknown'),\n",
        "                    'found': True\n",
        "                }\n",
        "    except Exception as e:\n",
        "        print(f\"Error searching Tidal: {str(e)}\")\n",
        "    \n",
        "    return {'found': False}\n",
        "\n",
        "\n",
        "print(\"✓ Tidal search functions defined\")\n"
      ]
    },
    {
      "cell_type": "code",
      "execution_count": 23,
      "metadata": {},
      "outputs": [
        {
          "name": "stdout",
          "output_type": "stream",
          "text": [
            "✓ Main orchestration function defined\n"
          ]
        }
      ],
      "source": [
        "def match_local_to_tidal(mp3_files: List[Dict], session=None, use_manual: bool = False) -> pd.DataFrame:\n",
        "    \"\"\"\n",
        "    Match local MP3 files to Tidal catalog\n",
        "    \n",
        "    Args:\n",
        "        mp3_files: List of MP3 metadata dicts from scan_directory_for_mp3s()\n",
        "        session: tidalapi session (if using tidalapi method)\n",
        "        use_manual: Force use of manual API search instead of tidalapi\n",
        "        \n",
        "    Returns:\n",
        "        DataFrame with results\n",
        "    \"\"\"\n",
        "    results = []\n",
        "    \n",
        "    for i, mp3 in enumerate(mp3_files, 1):\n",
        "        print(f\"[{i}/{len(mp3_files)}] Searching for: {mp3['artist']} - {mp3['title']}\", end=\" ... \")\n",
        "        \n",
        "        # Choose search method\n",
        "        if not use_manual and session is not None and TIDAL_METHOD == \"tidalapi\":\n",
        "            tidal_result = search_tidal_tidalapi(session, mp3['title'], mp3['artist'])\n",
        "        else:\n",
        "            tidal_result = search_tidal_manual(mp3['title'], mp3['artist'])\n",
        "        \n",
        "        # Combine results\n",
        "        combined = {\n",
        "            'local_artist': mp3['artist'],\n",
        "            'local_title': mp3['title'],\n",
        "            'local_album': mp3['album'],\n",
        "            'local_path': mp3['path'],\n",
        "            **tidal_result\n",
        "        }\n",
        "        \n",
        "        status = \"✓ Found\" if tidal_result.get('found') else \"✗ Not found\"\n",
        "        print(status)\n",
        "        \n",
        "        results.append(combined)\n",
        "    \n",
        "    df = pd.DataFrame(results)\n",
        "    return df\n",
        "\n",
        "\n",
        "print(\"✓ Main orchestration function defined\")\n"
      ]
    },
    {
      "cell_type": "markdown",
      "metadata": {},
      "source": [
        "## Configuration\n",
        "\n",
        "Update these settings before running:\n"
      ]
    },
    {
      "cell_type": "code",
      "execution_count": null,
      "metadata": {},
      "outputs": [
        {
          "name": "stdout",
          "output_type": "stream",
          "text": [
            "Music directory: /Users/maxfiep/Library/CloudStorage/GoogleDrive-pmaxfield@gmail.com/My Drive/Music/Music_mp3s\n",
            "Tidal method: Manual API\n",
            "Country code: US\n"
          ]
        }
      ],
      "source": [
        "# ===== CONFIGURATION =====\n",
        "\n",
        "# 1. LOCAL DIRECTORY TO SCAN\n",
        "# Use one of these formats:\n",
        "#   - Home directory: \"~/Music/Music_mp3s\"\n",
        "#   - Relative path: \"Music/Music_mp3s\"\n",
        "#   - Full path: \"/Users/maxfiep/Library/CloudStorage/.../Music_mp3s\"\n",
        "LOCAL_MUSIC_DIRECTORY = os.path.expanduser(\"~/Library/CloudStorage/GoogleDrive-pmaxfield@gmail.com/My Drive/Music/Music_mp3s\")\n",
        "\n",
        "# 2. TIDAL SETTINGS\n",
        "TIDAL_USE_MANUAL_API = True  # Set to False if using tidalapi with auth\n",
        "TIDAL_COUNTRY_CODE = \"US\"\n",
        "\n",
        "# 3. OPTIONAL: Tidal authentication (if using tidalapi)\n",
        "# TIDAL_USERNAME = \"your_tidal_username\"\n",
        "# TIDAL_PASSWORD = \"your_tidal_password\"\n",
        "\n",
        "# ===== END CONFIGURATION =====\n",
        "\n",
        "print(f\"Music directory: {LOCAL_MUSIC_DIRECTORY}\")\n",
        "print(f\"Tidal method: {'Manual API' if TIDAL_USE_MANUAL_API else 'tidalapi'}\")\n",
        "print(f\"Country code: {TIDAL_COUNTRY_CODE}\")\n"
      ]
    },
    {
      "cell_type": "markdown",
      "metadata": {},
      "source": [
        "## Step 1: Scan Local Directory\n"
      ]
    },
    {
      "cell_type": "code",
      "execution_count": 25,
      "metadata": {},
      "outputs": [
        {
          "name": "stdout",
          "output_type": "stream",
          "text": [
            "Found 57 MP3 files\n",
            "⚠ Could not read metadata from /Users/maxfiep/Library/CloudStorage/GoogleDrive-pmaxfield@gmail.com/My Drive/Music/Music_mp3s/Janes Addiction/Jane's Addiction - Three Days - Hammerstein Ballroom 97.mp3: \"/Users/maxfiep/Library/CloudStorage/GoogleDrive-pmaxfield@gmail.com/My Drive/Music/Music_mp3s/Janes Addiction/Jane's Addiction - Three Days - Hammerstein Ballroom 97.mp3\" doesn't start with an ID3 tag\n",
            "\n",
            "✓ Scanned complete\n",
            "Total MP3 files found: 56\n",
            "\n",
            "Sample of files found:\n",
            "                                           title                               artist                                    album                                                                                                                                                                                                         path\n",
            "                Old Saltillo Road (Instrumental)                       The Heavy Eyes                       He Dreams of Lions                                          /Users/maxfiep/Library/CloudStorage/GoogleDrive-pmaxfield@gmail.com/My Drive/Music/Music_mp3s/The Heavy Eyes/Old Saltillo Road (Instrumental) by The Heavy Eyes.mp3\n",
            "                                      Complexity                Eagles of Death Metal                              Zipper Down                                     /Users/maxfiep/Library/CloudStorage/GoogleDrive-pmaxfield@gmail.com/My Drive/Music/Music_mp3s/Eagles of Death Metal/Eagles of Death Metal - Zipper Down - Complexity.mp3\n",
            "Anything 'Cept the Truth (live Le Trianon Paris)                Eagles of Death Metal                                     Live             /Users/maxfiep/Library/CloudStorage/GoogleDrive-pmaxfield@gmail.com/My Drive/Music/Music_mp3s/Eagles of Death Metal/Eagles of Death Metal - Anything 'Cept the Truth (live Le Trianon Paris).mp3\n",
            "                           Mantra (Instrumental) Dave Grohl, Josh Homme, Trent Reznor                               Sound City          /Users/maxfiep/Library/CloudStorage/GoogleDrive-pmaxfield@gmail.com/My Drive/Music/Music_mp3s/Dave Grohl, Josh Homme, Trent Reznor/Mantra (Instrumental) - Dave Grohl, Josh Homme, Trent Reznor.mp3\n",
            "                               Long Slow Goodbye                Them Crooked Vultures Taylor Hawkins Tribute Concert - 2022-09 /Users/maxfiep/Library/CloudStorage/GoogleDrive-pmaxfield@gmail.com/My Drive/Music/Music_mp3s/Them Crooked Vultures/Them Crooked Vultures - Long Slow Goodbye - Taylor Hawkins Tribute Concert - 2022-09.mp3\n",
            "                                          Gunman                Them Crooked Vultures Taylor Hawkins Tribute Concert - 2022-09            /Users/maxfiep/Library/CloudStorage/GoogleDrive-pmaxfield@gmail.com/My Drive/Music/Music_mp3s/Them Crooked Vultures/Them Crooked Vultures - Gunman - Taylor Hawkins Tribute Concert - 2022-09.mp3\n",
            "     Spinning in Daffodils (Fuji Rock 2010) trim                Them Crooked Vultures                           Fuji Rock 2010                  /Users/maxfiep/Library/CloudStorage/GoogleDrive-pmaxfield@gmail.com/My Drive/Music/Music_mp3s/Them Crooked Vultures/Them Crooked Vultures - Spinning in Daffodils (Fuji Rock 2010) trim.mp3\n",
            "                                 Portland Oregon            Jack White & Loretta Lynn                            Van Lear Rose                                                     /Users/maxfiep/Library/CloudStorage/GoogleDrive-pmaxfield@gmail.com/My Drive/Music/Music_mp3s/Jack White/Loretta Lynn & Jack White - Portland Oregon.mp3\n",
            "                               Love Me Two Times              The Doors w Ian Astbury                                  Unknown                                                              /Users/maxfiep/Library/CloudStorage/GoogleDrive-pmaxfield@gmail.com/My Drive/Music/Music_mp3s/The Cult/Love Me Two Times - The Doors - 2003.mp3\n",
            "                                Funktion (remix)                    Ed Rush & Optical                            Planet V CD 1                                                     /Users/maxfiep/Library/CloudStorage/GoogleDrive-pmaxfield@gmail.com/My Drive/Music/Music_mp3s/Ed Rush & Optical/Ed Rush & Optical - Funktion (remix).mp3\n"
          ]
        }
      ],
      "source": [
        "# Scan the directory for MP3 files\n",
        "mp3_metadata = scan_directory_for_mp3s(LOCAL_MUSIC_DIRECTORY, recursive=True)\n",
        "\n",
        "print(f\"\\n✓ Scanned complete\")\n",
        "print(f\"Total MP3 files found: {len(mp3_metadata)}\")\n",
        "\n",
        "# Display sample of files found (show only the filename, not the full path)\n",
        "if mp3_metadata:\n",
        "    df_preview = pd.DataFrame(mp3_metadata).head(10)\n",
        "    print(\"\\nSample of files found:\")\n",
        "    if \"filepath\" in df_preview.columns:\n",
        "        # Show only the filename from the filepath column\n",
        "        print(df_preview['filepath'].apply(lambda x: os.path.basename(x)).to_string(index=False, header=[\"filename\"]))\n",
        "    else:\n",
        "        print(df_preview.to_string(index=False))\n",
        "else:\n",
        "    print(\"\\n⚠ No MP3 files found. Check the LOCAL_MUSIC_DIRECTORY path.\")\n"
      ]
    },
    {
      "cell_type": "markdown",
      "metadata": {},
      "source": [
        "## Step 2: Search Tidal for Matches\n",
        "\n",
        "This step will search each local MP3 on Tidal's catalog.\n"
      ]
    },
    {
      "cell_type": "code",
      "execution_count": 26,
      "metadata": {},
      "outputs": [
        {
          "name": "stdout",
          "output_type": "stream",
          "text": [
            "[1/56] Searching for: The Heavy Eyes - Old Saltillo Road (Instrumental) ... ✗ Not found\n",
            "[2/56] Searching for: Eagles of Death Metal - Complexity ... ✗ Not found\n",
            "[3/56] Searching for: Eagles of Death Metal - Anything 'Cept the Truth (live Le Trianon Paris) ... ✗ Not found\n",
            "[4/56] Searching for: Dave Grohl, Josh Homme, Trent Reznor - Mantra (Instrumental) ... ✗ Not found\n",
            "[5/56] Searching for: Them Crooked Vultures - Long Slow Goodbye ... ✗ Not found\n",
            "[6/56] Searching for: Them Crooked Vultures - Gunman ... ✗ Not found\n",
            "[7/56] Searching for: Them Crooked Vultures - Spinning in Daffodils (Fuji Rock 2010) trim ... ✗ Not found\n",
            "[8/56] Searching for: Jack White & Loretta Lynn - Portland Oregon ... ✗ Not found\n",
            "[9/56] Searching for: The Doors w Ian Astbury - Love Me Two Times ... ✗ Not found\n",
            "[10/56] Searching for: Ed Rush & Optical - Funktion (remix) ... ✗ Not found\n",
            "[11/56] Searching for: Doors, The - Break On Through w/ Ian Astbury ... ✗ Not found\n",
            "[12/56] Searching for: Desert Sessions - Nenada ... ✗ Not found\n",
            "[13/56] Searching for: Desert Sessions - Hanging Tree ... ✗ Not found\n",
            "[14/56] Searching for: Desert Sessions - The Idiots Guide ... ✗ Not found\n",
            "[15/56] Searching for: Queens of the Stone Age - In My Head - Belfort 2005 ... ✗ Not found\n",
            "[16/56] Searching for: Queens of the Stone Age - Go with the Flow - Live 2018 ... ✗ Not found\n",
            "[17/56] Searching for: Queens of the Stone Age - Fortress - Live WDR 2017 ... ✗ Not found\n",
            "[18/56] Searching for: Queens of the Stone Age - Long Slow Goodbye (Live) ... ✗ Not found\n",
            "[19/56] Searching for: Queens of the Stone Age - Better Living through Chemistry - Live 2018 ... ✗ Not found\n",
            "[20/56] Searching for: Queens of the Stone Age - Mama Got the Blues ... ✗ Not found\n",
            "[21/56] Searching for: Queens of the Stone Age - In The Fade - Mark Lanegan 2003 ... ✗ Not found\n",
            "[22/56] Searching for: Josh Homme - Let's Dance w/ Josh Hommee ... ✗ Not found\n",
            "[23/56] Searching for: Josh Homme - Gardenia ... ✗ Not found\n",
            "[24/56] Searching for: Alice in Chains & Gretchen Wilson - Barracuda ... ✗ Not found\n",
            "[25/56] Searching for: Beastie Boys - Just A Test (Instrumental) ... ✗ Not found\n",
            "[26/56] Searching for: Van Halen - Last Child cover ... ✗ Not found\n",
            "[27/56] Searching for: Amon Tobin - Intro redub ... ✗ Not found\n",
            "[28/56] Searching for: Unkle - In a State (DFA remix) ... ✗ Not found\n",
            "[29/56] Searching for: Queens of the Stone Age - Born to Hula ... ✗ Not found\n",
            "[30/56] Searching for: Queens of the Stone Age - No One Knows (Uncle Remix) ... ✗ Not found\n",
            "[31/56] Searching for: Queens of the Stone Age - The Bronze ... ✗ Not found\n",
            "[32/56] Searching for: Queens of the Stone Age - Most Exalted Potentate of Love (The Cramps) ... ✗ Not found\n",
            "[33/56] Searching for: Queens of the Stone Age - Who'll be the Next in Line (The Kinks) ... ✗ Not found\n",
            "[34/56] Searching for: Unknown - Unknown ... ✗ Not found\n",
            "[35/56] Searching for: Doug E. Fresh & Slick Rick - La Di Da Di ... ✗ Not found\n",
            "[36/56] Searching for: Crookers feat. Wiley Thomas Jules - Business Man (Black Noise Remix) ... ✗ Not found\n",
            "[37/56] Searching for: Thievery Corporation - Who Needs Forever ... ✗ Not found\n",
            "[38/56] Searching for: Goat Simulator soundtrack - Unknown ... ✗ Not found\n",
            "[39/56] Searching for: Dom & Roland - Kinetic ... ✗ Not found\n",
            "[40/56] Searching for: deadmau5 - Charlie can't dance ... ✗ Not found\n",
            "[41/56] Searching for: Tool - Parabola ... ✗ Not found\n",
            "[42/56] Searching for: Marco Beltrami - For The Gods_Act Like Cougars ... ✗ Not found\n",
            "[43/56] Searching for: Canned Heat - On The Road Again ... ✗ Not found\n",
            "[44/56] Searching for: Josh Homme - Hanging (Aka Ramble Off) ... ✗ Not found\n",
            "[45/56] Searching for: Marco Beltrami - Someone Is Coming ... ✗ Not found\n",
            "[46/56] Searching for: Marco Beltrami - Story Of The Fish ... ✗ Not found\n",
            "[47/56] Searching for: Marco Beltrami - The Atomic Trinity Vs. Heaven's Devils, Round II ... ✗ Not found\n",
            "[48/56] Searching for: Josh Homme - All The Same ... ✗ Not found\n",
            "[49/56] Searching for: Queens of the Stone Age - The Atomic Trinity ... ✗ Not found\n",
            "[50/56] Searching for: Marco Beltrami - Eulogy ... ✗ Not found\n",
            "[51/56] Searching for: Stephen Stills - Do For The Others ... ✗ Not found\n",
            "[52/56] Searching for: Marco Beltrami - Dead Dog, Part II ... ✗ Not found\n",
            "[53/56] Searching for: Josh Homme - The Atomic Trinity ... ✗ Not found\n",
            "[54/56] Searching for: Josh Homme - Hanging (aka Ramble Off) ... ✗ Not found\n",
            "[55/56] Searching for: Josh Homme, David Sardy - Nobody to Love (Bonus Track) ... ✗ Not found\n",
            "[56/56] Searching for: Josh Homme - Stone Cold Crazy ... ✗ Not found\n",
            "\n",
            "✓ Matching complete\n"
          ]
        }
      ],
      "source": [
        "# Initialize Tidal session if using tidalapi\n",
        "tidal_session = None\n",
        "if not TIDAL_USE_MANUAL_API and TIDAL_METHOD == \"tidalapi\":\n",
        "    try:\n",
        "        tidal_session = tidalapi.Session()\n",
        "        # Uncomment below if you want to authenticate with credentials\n",
        "        # tidal_session.login(TIDAL_USERNAME, TIDAL_PASSWORD)\n",
        "        print(\"✓ Tidal session initialized\")\n",
        "    except Exception as e:\n",
        "        print(f\"⚠ Could not initialize Tidal session: {e}\")\n",
        "        print(\"  Falling back to manual API...\")\n",
        "        TIDAL_USE_MANUAL_API = True\n",
        "\n",
        "# Perform matching\n",
        "if mp3_metadata:\n",
        "    results_df = match_local_to_tidal(mp3_metadata, session=tidal_session, use_manual=TIDAL_USE_MANUAL_API)\n",
        "    print(f\"\\n✓ Matching complete\")\n",
        "else:\n",
        "    print(\"✗ No MP3 files to search. Please check the directory in Step 1.\")\n"
      ]
    },
    {
      "cell_type": "markdown",
      "metadata": {},
      "source": [
        "## Step 3: View Results\n"
      ]
    },
    {
      "cell_type": "code",
      "execution_count": 27,
      "metadata": {},
      "outputs": [
        {
          "name": "stdout",
          "output_type": "stream",
          "text": [
            "============================================================\n",
            "RESULTS SUMMARY\n",
            "============================================================\n",
            "Total songs:        56\n",
            "Found on Tidal:     0\n",
            "Not found:          56\n",
            "Match rate:         0.0%\n",
            "============================================================\n"
          ]
        }
      ],
      "source": [
        "# Summary statistics\n",
        "if 'results_df' in locals():\n",
        "    found_count = results_df['found'].sum()\n",
        "    total_count = len(results_df)\n",
        "    match_percentage = (found_count / total_count * 100) if total_count > 0 else 0\n",
        "    \n",
        "    print(\"=\" * 60)\n",
        "    print(\"RESULTS SUMMARY\")\n",
        "    print(\"=\" * 60)\n",
        "    print(f\"Total songs:        {total_count}\")\n",
        "    print(f\"Found on Tidal:     {found_count}\")\n",
        "    print(f\"Not found:          {total_count - found_count}\")\n",
        "    print(f\"Match rate:         {match_percentage:.1f}%\")\n",
        "    print(\"=\" * 60)\n"
      ]
    },
    {
      "cell_type": "code",
      "execution_count": 28,
      "metadata": {},
      "outputs": [
        {
          "name": "stdout",
          "output_type": "stream",
          "text": [
            "\n",
            "Full Results (first 20 rows):\n",
            "                        local_artist                                      local_title                              local_album                                                                                                                                                                                                               local_path  found\n",
            "                      The Heavy Eyes                 Old Saltillo Road (Instrumental)                       He Dreams of Lions                                                      /Users/maxfiep/Library/CloudStorage/GoogleDrive-pmaxfield@gmail.com/My Drive/Music/Music_mp3s/The Heavy Eyes/Old Saltillo Road (Instrumental) by The Heavy Eyes.mp3  False\n",
            "               Eagles of Death Metal                                       Complexity                              Zipper Down                                                 /Users/maxfiep/Library/CloudStorage/GoogleDrive-pmaxfield@gmail.com/My Drive/Music/Music_mp3s/Eagles of Death Metal/Eagles of Death Metal - Zipper Down - Complexity.mp3  False\n",
            "               Eagles of Death Metal Anything 'Cept the Truth (live Le Trianon Paris)                                     Live                         /Users/maxfiep/Library/CloudStorage/GoogleDrive-pmaxfield@gmail.com/My Drive/Music/Music_mp3s/Eagles of Death Metal/Eagles of Death Metal - Anything 'Cept the Truth (live Le Trianon Paris).mp3  False\n",
            "Dave Grohl, Josh Homme, Trent Reznor                            Mantra (Instrumental)                               Sound City                      /Users/maxfiep/Library/CloudStorage/GoogleDrive-pmaxfield@gmail.com/My Drive/Music/Music_mp3s/Dave Grohl, Josh Homme, Trent Reznor/Mantra (Instrumental) - Dave Grohl, Josh Homme, Trent Reznor.mp3  False\n",
            "               Them Crooked Vultures                                Long Slow Goodbye Taylor Hawkins Tribute Concert - 2022-09             /Users/maxfiep/Library/CloudStorage/GoogleDrive-pmaxfield@gmail.com/My Drive/Music/Music_mp3s/Them Crooked Vultures/Them Crooked Vultures - Long Slow Goodbye - Taylor Hawkins Tribute Concert - 2022-09.mp3  False\n",
            "               Them Crooked Vultures                                           Gunman Taylor Hawkins Tribute Concert - 2022-09                        /Users/maxfiep/Library/CloudStorage/GoogleDrive-pmaxfield@gmail.com/My Drive/Music/Music_mp3s/Them Crooked Vultures/Them Crooked Vultures - Gunman - Taylor Hawkins Tribute Concert - 2022-09.mp3  False\n",
            "               Them Crooked Vultures      Spinning in Daffodils (Fuji Rock 2010) trim                           Fuji Rock 2010                              /Users/maxfiep/Library/CloudStorage/GoogleDrive-pmaxfield@gmail.com/My Drive/Music/Music_mp3s/Them Crooked Vultures/Them Crooked Vultures - Spinning in Daffodils (Fuji Rock 2010) trim.mp3  False\n",
            "           Jack White & Loretta Lynn                                  Portland Oregon                            Van Lear Rose                                                                 /Users/maxfiep/Library/CloudStorage/GoogleDrive-pmaxfield@gmail.com/My Drive/Music/Music_mp3s/Jack White/Loretta Lynn & Jack White - Portland Oregon.mp3  False\n",
            "             The Doors w Ian Astbury                                Love Me Two Times                                  Unknown                                                                          /Users/maxfiep/Library/CloudStorage/GoogleDrive-pmaxfield@gmail.com/My Drive/Music/Music_mp3s/The Cult/Love Me Two Times - The Doors - 2003.mp3  False\n",
            "                   Ed Rush & Optical                                 Funktion (remix)                            Planet V CD 1                                                                 /Users/maxfiep/Library/CloudStorage/GoogleDrive-pmaxfield@gmail.com/My Drive/Music/Music_mp3s/Ed Rush & Optical/Ed Rush & Optical - Funktion (remix).mp3  False\n",
            "                          Doors, The                  Break On Through w/ Ian Astbury                 Break on Through Tribute                                                    /Users/maxfiep/Library/CloudStorage/GoogleDrive-pmaxfield@gmail.com/My Drive/Music/Music_mp3s/Doors, The/The Doors with Ian Astbury (The Cult) - Break On Through.mp3  False\n",
            "                     Desert Sessions                                           Nenada                Desert Sessions Vol 7 & 8                                              /Users/maxfiep/Library/CloudStorage/GoogleDrive-pmaxfield@gmail.com/My Drive/Music/Music_mp3s/Desert Sessions/Desert Sessions - Desert Sessions Vol 7 & 8 - 06 - Nenada.mp3  False\n",
            "                     Desert Sessions                                     Hanging Tree                Desert Sessions Vol 7 & 8                                        /Users/maxfiep/Library/CloudStorage/GoogleDrive-pmaxfield@gmail.com/My Drive/Music/Music_mp3s/Desert Sessions/Desert Sessions - Desert Sessions Vol 7 & 8 - 02 - Hanging Tree.mp3  False\n",
            "                     Desert Sessions                                 The Idiots Guide                Desert Sessions Vol 7 & 8                                    /Users/maxfiep/Library/CloudStorage/GoogleDrive-pmaxfield@gmail.com/My Drive/Music/Music_mp3s/Desert Sessions/Desert Sessions - Desert Sessions Vol 7 & 8 - 07 - The Idiots Guide.mp3  False\n",
            "             Queens of the Stone Age                        In My Head - Belfort 2005                                  Unknown                                            /Users/maxfiep/Library/CloudStorage/GoogleDrive-pmaxfield@gmail.com/My Drive/Music/Music_mp3s/Queens of the Stone Age/Queens of the Stone Age - In My Head - Belfort 2005.mp3  False\n",
            "             Queens of the Stone Age                     Go with the Flow - Live 2018                         Live New Zealand                                         /Users/maxfiep/Library/CloudStorage/GoogleDrive-pmaxfield@gmail.com/My Drive/Music/Music_mp3s/Queens of the Stone Age/Queens of the Stone Age - Go with the Flow - Live 2018.mp3  False\n",
            "             Queens of the Stone Age                         Fortress - Live WDR 2017                                     Live                                             /Users/maxfiep/Library/CloudStorage/GoogleDrive-pmaxfield@gmail.com/My Drive/Music/Music_mp3s/Queens of the Stone Age/Queens of the Stone Age - Fortress - Live WDR 2017.mp3  False\n",
            "             Queens of the Stone Age                         Long Slow Goodbye (Live)     Over The Years And Through The Woods /Users/maxfiep/Library/CloudStorage/GoogleDrive-pmaxfield@gmail.com/My Drive/Music/Music_mp3s/Queens of the Stone Age/Queens of the Stone Age - Over The Years And Through The Woods - 14 - Long Slow Goodbye (Live).mp3  False\n",
            "             Queens of the Stone Age      Better Living through Chemistry - Live 2018                    Live New Zealand 2018                          /Users/maxfiep/Library/CloudStorage/GoogleDrive-pmaxfield@gmail.com/My Drive/Music/Music_mp3s/Queens of the Stone Age/Queens of the Stone Age - Better Living through Chemistry - Live 2018.mp3  False\n",
            "             Queens of the Stone Age                               Mama Got the Blues                    Live New Zealand 2018                                /Users/maxfiep/Library/CloudStorage/GoogleDrive-pmaxfield@gmail.com/My Drive/Music/Music_mp3s/Queens of the Stone Age/Queens of the Stone Age - New Zealand 2018 - Mama Got the Blues.mp3  False\n"
          ]
        }
      ],
      "source": [
        "# Display full results table\n",
        "if 'results_df' in locals():\n",
        "    print(\"\\nFull Results (first 20 rows):\")\n",
        "    pd.set_option('display.max_columns', None)\n",
        "    pd.set_option('display.width', None)\n",
        "    print(results_df.head(20).to_string(index=False))\n"
      ]
    },
    {
      "cell_type": "markdown",
      "metadata": {},
      "source": [
        "## Step 4: Export Results\n"
      ]
    },
    {
      "cell_type": "code",
      "execution_count": null,
      "metadata": {},
      "outputs": [],
      "source": []
    }
  ],
  "metadata": {
    "kernelspec": {
      "display_name": "pdms-shared",
      "language": "python",
      "name": "python3"
    },
    "language_info": {
      "codemirror_mode": {
        "name": "ipython",
        "version": 3
      },
      "file_extension": ".py",
      "mimetype": "text/x-python",
      "name": "python",
      "nbconvert_exporter": "python",
      "pygments_lexer": "ipython3",
      "version": "3.14.0"
    }
  },
  "nbformat": 4,
  "nbformat_minor": 2
}

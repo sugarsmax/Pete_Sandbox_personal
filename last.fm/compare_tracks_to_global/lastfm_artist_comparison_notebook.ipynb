{
  "cells": [
    {
      "cell_type": "markdown",
      "metadata": {},
      "source": [
        "# Last.fm Personal vs Global Track Rankings Comparison\n",
        "\n",
        "*Interactive notebook for comparing personal Last.fm listening habits with global popularity*\n",
        "\n",
        "**Enter any artist name to generate a comparison analysis**\n"
      ]
    },
    {
      "cell_type": "code",
      "execution_count": 5,
      "metadata": {},
      "outputs": [
        {
          "name": "stdout",
          "output_type": "stream",
          "text": [
            "🎵 Analysis Configuration:\n",
            "   Artist: The Cult\n",
            "   Username: sugarsmax\n",
            "   Date: 2025-09-26 14:03:02\n"
          ]
        }
      ],
      "source": [
        "# Configuration and Setup\n",
        "import json\n",
        "from datetime import datetime\n",
        "from typing import List, Dict, Optional\n",
        "\n",
        "# Artist input - CHANGE THIS TO ANY ARTIST\n",
        "ARTIST_NAME = \"The Cult\"  # <-- Change this to any artist you want\n",
        "USERNAME = \"sugarsmax\"  # <-- Change this to your Last.fm username\n",
        "\n",
        "print(f\"🎵 Analysis Configuration:\")\n",
        "print(f\"   Artist: {ARTIST_NAME}\")\n",
        "print(f\"   Username: {USERNAME}\")\n",
        "print(f\"   Date: {datetime.now().strftime('%Y-%m-%d %H:%M:%S')}\")\n"
      ]
    },
    {
      "cell_type": "code",
      "execution_count": 6,
      "metadata": {},
      "outputs": [
        {
          "name": "stdout",
          "output_type": "stream",
          "text": [
            "📊 Available artists: ['Stone Temple Pilots']\n",
            "✅ Selected artist data loaded: False\n"
          ]
        }
      ],
      "source": [
        "# Artist Data Definitions\n",
        "# Add your artist's data here following this format\n",
        "\n",
        "ARTIST_DATA = {\n",
        "    \"Stone Temple Pilots\": {\n",
        "        \"personal_tracks\": [\n",
        "            {\"rank\": 1, \"name\": \"Dumb Love\", \"scrobbles\": 32, \"loved\": True, \"album\": \"Purple\"},\n",
        "            {\"rank\": 2, \"name\": \"Sex Type Thing\", \"scrobbles\": 32, \"loved\": True, \"album\": \"Core\"},\n",
        "            {\"rank\": 3, \"name\": \"Interstate Love Song\", \"scrobbles\": 21, \"loved\": True, \"album\": \"Purple\"},\n",
        "            {\"rank\": 4, \"name\": \"Sin\", \"scrobbles\": 18, \"loved\": True, \"album\": \"Core\"},\n",
        "            {\"rank\": 5, \"name\": \"Down\", \"scrobbles\": 16, \"loved\": True, \"album\": \"No. 4\"},\n",
        "            {\"rank\": 6, \"name\": \"And So I Know\", \"scrobbles\": 13, \"loved\": True, \"album\": \"Purple\"},\n",
        "            {\"rank\": 7, \"name\": \"Piece of Pie\", \"scrobbles\": 11, \"loved\": True, \"album\": \"Core\"},\n",
        "            {\"rank\": 8, \"name\": \"Plush\", \"scrobbles\": 8, \"loved\": True, \"album\": \"Core\"},\n",
        "            {\"rank\": 9, \"name\": \"Still Remains\", \"scrobbles\": 8, \"loved\": True, \"album\": \"Core\"},\n",
        "            {\"rank\": 10, \"name\": \"Dead & Bloated\", \"scrobbles\": 4, \"loved\": True, \"album\": \"Core\"},\n",
        "        ],\n",
        "        \"global_rankings\": {\n",
        "            \"Plush\": 1,\n",
        "            \"Interstate Love Song\": 2,\n",
        "            \"Sex Type Thing\": 7,\n",
        "            \"Down\": 12,\n",
        "            \"Dead & Bloated\": 17,\n",
        "            \"Sin\": 20\n",
        "        }\n",
        "    }\n",
        "}\n",
        "\n",
        "print(f\"📊 Available artists: {list(ARTIST_DATA.keys())}\")\n",
        "print(f\"✅ Selected artist data loaded: {ARTIST_NAME in ARTIST_DATA}\")\n"
      ]
    },
    {
      "cell_type": "code",
      "execution_count": 7,
      "metadata": {},
      "outputs": [
        {
          "name": "stdout",
          "output_type": "stream",
          "text": [
            "✅ Analysis functions loaded successfully!\n"
          ]
        }
      ],
      "source": [
        "# Data Processing Functions\n",
        "\n",
        "def generate_comparison_markdown(artist_name: str, username: str, artist_data: Dict) -> str:\n",
        "    \"\"\"Generate markdown table comparing personal vs global rankings\"\"\"\n",
        "    \n",
        "    if artist_name not in artist_data:\n",
        "        return f\"❌ No data available for artist: {artist_name}\\n\\nAdd the artist data to the ARTIST_DATA dictionary above.\"\n",
        "    \n",
        "    data = artist_data[artist_name]\n",
        "    personal_tracks = data['personal_tracks']\n",
        "    global_rankings = data['global_rankings']\n",
        "    \n",
        "    markdown = f\"\"\"# {artist_name} - Complete Personal Ranking\n",
        "\n",
        "**Username:** {username}  \n",
        "**Analysis Date:** {datetime.now().strftime('%Y-%m-%d')}\n",
        "\n",
        "| Personal Rank | Track Name | Global Rank | Difference | Scrobbles |\n",
        "|---------------|------------|-------------|------------|-----------|\n",
        "\"\"\"\n",
        "    \n",
        "    found_tracks = 0\n",
        "    missing_tracks = 0\n",
        "    missing_track_details = []\n",
        "    \n",
        "    for track in personal_tracks:\n",
        "        track_name = track[\"name\"]\n",
        "        \n",
        "        # Check if track exists in global rankings\n",
        "        if track_name in global_rankings:\n",
        "            global_rank = global_rankings[track_name]\n",
        "            diff = track[\"rank\"] - global_rank\n",
        "            diff_str = f\"+{diff}\" if diff > 0 else str(diff)\n",
        "            found_tracks += 1\n",
        "        else:\n",
        "            global_rank = \"Not in Top 20\"\n",
        "            diff_str = \"N/A\"\n",
        "            missing_tracks += 1\n",
        "            missing_track_details.append(f\"- **#{track['rank']} {track_name}** - {track['scrobbles']} scrobbles\")\n",
        "        \n",
        "        markdown += f\"| #{track['rank']} | {track_name} | {global_rank} | {diff_str} | {track['scrobbles']} |\\n\"\n",
        "    \n",
        "    # Add summary\n",
        "    markdown += f\"\"\"\n",
        "## Summary\n",
        "\n",
        "- **Total Personal Tracks:** {len(personal_tracks)}\n",
        "- **Found in Global Top 20:** {found_tracks} tracks\n",
        "- **Missing from Global Top 20:** {missing_tracks} tracks\n",
        "- **Missing Percentage:** {(missing_tracks/len(personal_tracks)*100):.1f}%\n",
        "\"\"\"\n",
        "    \n",
        "    if missing_track_details:\n",
        "        markdown += f\"\"\"\n",
        "## Deep Cuts Analysis\n",
        "\n",
        "Your **deep cuts that don't appear in global top 20:**\n",
        "{\"\".join([\"\\n\" + detail for detail in missing_track_details])}\n",
        "\n",
        "**This shows your unique taste!** {(missing_tracks/len(personal_tracks)*100):.0f}% of your top {len(personal_tracks)} tracks don't appear in the global rankings.\n",
        "\"\"\"\n",
        "    \n",
        "    markdown += \"\"\"\n",
        "**Note:** \n",
        "- Negative difference = you rank it higher than global audience (deep cut)  \n",
        "- Positive difference = global audience ranks it higher (mainstream hit)\n",
        "\"\"\"\n",
        "    \n",
        "    return markdown\n",
        "\n",
        "print(\"✅ Analysis functions loaded successfully!\")\n"
      ]
    },
    {
      "cell_type": "code",
      "execution_count": 8,
      "metadata": {},
      "outputs": [
        {
          "name": "stdout",
          "output_type": "stream",
          "text": [
            "🎵 Analyzing The Cult for user sugarsmax...\n",
            "\n",
            "❌ No data available for The Cult\n",
            "\n",
            "To add this artist:\n",
            "1. Go to the ARTIST_DATA cell above\n",
            "2. Add a new entry following the existing format\n",
            "3. Include your personal tracks and known global rankings\n"
          ]
        }
      ],
      "source": [
        "# Generate Analysis for Selected Artist\n",
        "\n",
        "print(f\"🎵 Analyzing {ARTIST_NAME} for user {USERNAME}...\\n\")\n",
        "\n",
        "# Check if artist data exists\n",
        "if ARTIST_NAME not in ARTIST_DATA:\n",
        "    print(f\"❌ No data available for {ARTIST_NAME}\")\n",
        "    print(\"\\nTo add this artist:\")\n",
        "    print(\"1. Go to the ARTIST_DATA cell above\")\n",
        "    print(\"2. Add a new entry following the existing format\")\n",
        "    print(\"3. Include your personal tracks and known global rankings\")\n",
        "else:\n",
        "    # Generate markdown comparison\n",
        "    markdown_output = generate_comparison_markdown(ARTIST_NAME, USERNAME, ARTIST_DATA)\n",
        "    print(markdown_output)\n"
      ]
    },
    {
      "cell_type": "code",
      "execution_count": 9,
      "metadata": {},
      "outputs": [
        {
          "name": "stdout",
          "output_type": "stream",
          "text": [
            "❌ Cannot save - no data available for selected artist\n"
          ]
        }
      ],
      "source": [
        "# Save Results to File\n",
        "\n",
        "if ARTIST_NAME in ARTIST_DATA:\n",
        "    # Generate filename\n",
        "    safe_artist_name = ARTIST_NAME.lower().replace(\" \", \"_\").replace(\"&\", \"and\")\n",
        "    timestamp = datetime.now().strftime(\"%Y%m%d_%H%M%S\")\n",
        "    filename = f\"ranking_analysis_{safe_artist_name}_{timestamp}.md\"\n",
        "    \n",
        "    # Save markdown\n",
        "    markdown_content = generate_comparison_markdown(ARTIST_NAME, USERNAME, ARTIST_DATA)\n",
        "    \n",
        "    with open(filename, 'w', encoding='utf-8') as f:\n",
        "        f.write(markdown_content)\n",
        "    \n",
        "    print(f\"💾 Analysis saved to: {filename}\")\n",
        "    print(f\"📊 File contains complete ranking comparison for {ARTIST_NAME}\")\n",
        "else:\n",
        "    print(\"❌ Cannot save - no data available for selected artist\")\n"
      ]
    },
    {
      "cell_type": "markdown",
      "metadata": {},
      "source": [
        "## How to Use This Notebook\n",
        "\n",
        "### For Stone Temple Pilots (Already Configured)\n",
        "1. Just run all cells to see the analysis\n",
        "2. The results will show your complete personal ranking vs global popularity\n",
        "\n",
        "### For Other Artists\n",
        "1. **Change the artist name** in the first cell: `ARTIST_NAME = \"Your Artist Name\"`\n",
        "2. **Add artist data** to the `ARTIST_DATA` dictionary in the second cell:\n",
        "   - Personal tracks with ranks, names, scrobbles, and albums\n",
        "   - Global rankings for tracks that appear in top 20\n",
        "3. **Run all cells** to generate the analysis\n",
        "\n",
        "### Data Collection Tips\n",
        "- **Personal tracks**: Get from your Last.fm library page: `https://www.last.fm/user/USERNAME/library/music/ARTIST/+tracks`\n",
        "- **Global rankings**: Get from artist's Last.fm page: `https://www.last.fm/music/ARTIST/+tracks`\n",
        "- **Use Playwright MCP** for automated scraping (as demonstrated in the main system)\n",
        "\n",
        "### Output\n",
        "- **Console display**: Full markdown table with analysis\n",
        "- **Saved file**: Markdown file with timestamp for sharing\n",
        "- **Clean format**: No emojis, scrobbles at the end\n",
        "\n",
        "---\n",
        "\n",
        "*Built with Python and Jupyter for interactive music taste analysis*\n"
      ]
    }
  ],
  "metadata": {
    "kernelspec": {
      "display_name": ".venv",
      "language": "python",
      "name": "python3"
    },
    "language_info": {
      "codemirror_mode": {
        "name": "ipython",
        "version": 3
      },
      "file_extension": ".py",
      "mimetype": "text/x-python",
      "name": "python",
      "nbconvert_exporter": "python",
      "pygments_lexer": "ipython3",
      "version": "3.13.7"
    }
  },
  "nbformat": 4,
  "nbformat_minor": 2
}
